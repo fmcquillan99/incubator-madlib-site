{
 "cells": [
  {
   "cell_type": "code",
   "execution_count": 1,
   "metadata": {},
   "outputs": [],
   "source": [
    "%load_ext sql\n",
    "%matplotlib notebook"
   ]
  },
  {
   "cell_type": "code",
   "execution_count": 2,
   "metadata": {},
   "outputs": [
    {
     "data": {
      "text/plain": [
       "u'Connected: @mnist'"
      ]
     },
     "execution_count": 2,
     "metadata": {},
     "output_type": "execute_result"
    }
   ],
   "source": [
    "%sql postgresql://localhost:6000/mnist"
   ]
  },
  {
   "cell_type": "code",
   "execution_count": 3,
   "metadata": {},
   "outputs": [
    {
     "name": "stdout",
     "output_type": "stream",
     "text": [
      " * postgresql://localhost:6000/mnist\n",
      "1 rows affected.\n"
     ]
    },
    {
     "data": {
      "text/html": [
       "<table>\n",
       "    <tr>\n",
       "        <th>version</th>\n",
       "    </tr>\n",
       "    <tr>\n",
       "        <td>MADlib version: 1.18.0-dev, git revision: rc/1.17.0-rc2-100-g4987e8fe, cmake configuration time: Fri Mar 12 20:51:57 UTC 2021, build type: debug, build system: Darwin-20.3.0, C compiler: Clang, C++ compiler: Clang</td>\n",
       "    </tr>\n",
       "</table>"
      ],
      "text/plain": [
       "[(u'MADlib version: 1.18.0-dev, git revision: rc/1.17.0-rc2-100-g4987e8fe, cmake configuration time: Fri Mar 12 20:51:57 UTC 2021, build type: debug, build system: Darwin-20.3.0, C compiler: Clang, C++ compiler: Clang',)]"
      ]
     },
     "execution_count": 3,
     "metadata": {},
     "output_type": "execute_result"
    }
   ],
   "source": [
    "%sql select madlib.version();"
   ]
  },
  {
   "cell_type": "code",
   "execution_count": 4,
   "metadata": {},
   "outputs": [],
   "source": [
    "from tensorflow import keras\n",
    "from tensorflow.keras.models import Model\n",
    "from tensorflow.keras.layers import Input, Flatten, Dense, Reshape"
   ]
  },
  {
   "cell_type": "markdown",
   "metadata": {
    "heading_collapsed": true
   },
   "source": [
    "# Multi Output Mnist Example"
   ]
  },
  {
   "cell_type": "markdown",
   "metadata": {
    "hidden": true
   },
   "source": [
    "## Define Model"
   ]
  },
  {
   "cell_type": "code",
   "execution_count": null,
   "metadata": {
    "hidden": true
   },
   "outputs": [],
   "source": [
    "# creating model\n",
    "inputs = Input(shape = (28,28))\n",
    "flatten1 = Flatten()(inputs)\n",
    "dense1 = Dense(512, activation = 'relu')(flatten1)\n",
    "dense2 = Dense(128, activation = 'relu')(dense1)\n",
    "dense3 = Dense(32, activation = 'relu')(dense2)\n",
    "\n",
    "# create classification output\n",
    "classification_output = Dense(10, activation = 'softmax')(dense3)\n",
    "\n",
    "# use output from dense layer 3 to create autoencder output\n",
    "up_dense1 = Dense(128, activation = 'relu')(dense3)\n",
    "up_dense2 = Dense(512, activation = 'relu')(up_dense1)\n",
    "decoded_flat = Dense(784)(up_dense2)\n",
    "decoded_outputs = Reshape((28,28))(decoded_flat)"
   ]
  },
  {
   "cell_type": "code",
   "execution_count": null,
   "metadata": {
    "hidden": true,
    "scrolled": true
   },
   "outputs": [],
   "source": [
    "model = Model(inputs, [classification_output,decoded_outputs])\n",
    "model.summary()"
   ]
  },
  {
   "cell_type": "code",
   "execution_count": null,
   "metadata": {
    "hidden": true
   },
   "outputs": [],
   "source": [
    "## From https://theailearner.com/2019/01/25/multi-input-and-multi-output-models-in-keras/\n",
    "# m = 256\n",
    "# n_epoch = 25\n",
    "# model.compile(optimizer='adam', loss=['categorical_crossentropy', 'mse'], loss_weights = [1.0, 0.5], metrics = ['accuracy'])\n",
    "# model.fit(output_X_train,[Y_train, output_X_train], epochs=n_epoch, batch_size=m, shuffle=True)"
   ]
  },
  {
   "cell_type": "markdown",
   "metadata": {
    "hidden": true
   },
   "source": [
    "## Load Model"
   ]
  },
  {
   "cell_type": "code",
   "execution_count": null,
   "metadata": {
    "hidden": true
   },
   "outputs": [],
   "source": [
    "json_model = model.to_json()"
   ]
  },
  {
   "cell_type": "code",
   "execution_count": null,
   "metadata": {
    "hidden": true
   },
   "outputs": [],
   "source": [
    "%%sql\n",
    "DROP TABLE IF EXISTS model_arch_library;\n",
    "SELECT madlib.load_keras_model('model_arch_library', :json_model ::json,\n",
    "                               NULL,                  -- Weights\n",
    "                               'Multi Output MNIST',              -- Name\n",
    "                               'Output 1: classification, Output 2: autoencoder' -- Descr\n",
    ");\n",
    "\n",
    "SELECT * FROM model_arch_library;"
   ]
  },
  {
   "cell_type": "code",
   "execution_count": null,
   "metadata": {
    "hidden": true
   },
   "outputs": [],
   "source": [
    "%sql \\dt"
   ]
  },
  {
   "cell_type": "code",
   "execution_count": null,
   "metadata": {
    "hidden": true
   },
   "outputs": [],
   "source": [
    "%sql SELECT * FROM model_arch_library"
   ]
  },
  {
   "cell_type": "markdown",
   "metadata": {
    "hidden": true
   },
   "source": [
    "## Run Preprocessor"
   ]
  },
  {
   "cell_type": "code",
   "execution_count": null,
   "metadata": {
    "hidden": true
   },
   "outputs": [],
   "source": [
    "%%sql\n",
    "DROP TABLE IF EXISTS mnist_train_data_packed, mnist_train_data_packed_summary;\n",
    "SELECT madlib.training_preprocessor_dl('mnist_train_data',        -- Source table\n",
    "                                       'mnist_train_data_packed', -- Output table\n",
    "                                       'y',                          -- Dependent variable\n",
    "                                       'x',                          -- Independent variable\n",
    "                                        1000,                        -- Buffer size\n",
    "                                        255                          -- Normalizing constant\n",
    "                                        );\n",
    "\n",
    "SELECT * FROM mnist_train_data_packed_summary;"
   ]
  },
  {
   "cell_type": "code",
   "execution_count": null,
   "metadata": {
    "hidden": true
   },
   "outputs": [],
   "source": [
    "%%sql\n",
    "DROP TABLE IF EXISTS mnist_test_data_packed, mnist_test_data_packed_summary;\n",
    "\n",
    "SELECT madlib.training_preprocessor_dl('mnist_test_data',        -- Source table\n",
    "                                       'mnist_test_data_packed', -- Output table\n",
    "                                       'y',                          -- Dependent variable\n",
    "                                       'x',                          -- Independent variable\n",
    "                                        1000,                        -- Buffer size\n",
    "                                        255                          -- Normalizing constant\n",
    "                                        );\n",
    "\n",
    "SELECT * FROM mnist_train_data_packed_summary;"
   ]
  },
  {
   "cell_type": "code",
   "execution_count": null,
   "metadata": {
    "hidden": true
   },
   "outputs": [],
   "source": [
    "%sql SET optimizer=off"
   ]
  },
  {
   "cell_type": "code",
   "execution_count": null,
   "metadata": {
    "hidden": true
   },
   "outputs": [],
   "source": [
    "%sql SHOW optimizer"
   ]
  },
  {
   "cell_type": "markdown",
   "metadata": {
    "hidden": true
   },
   "source": [
    "## Fit Model"
   ]
  },
  {
   "cell_type": "code",
   "execution_count": null,
   "metadata": {
    "hidden": true
   },
   "outputs": [],
   "source": [
    "%%sql\n",
    "DROP TABLE IF EXISTS mnist_multout_model, mnist_multout_model_summary;\n",
    "\n",
    "SELECT madlib.madlib_keras_fit('mnist_train_data_packed',    -- source table\n",
    "                               'mnist_multout_model',                -- model output table\n",
    "                               'model_arch_library',            -- model arch table\n",
    "                                1,                              -- model arch id\n",
    "                                $$ loss='mse', loss_weights = [1.0, 0.5], optimizer='adam', metrics=['accuracy']$$,  -- compile_params\n",
    "                                $$ batch_size=256, epochs=1, shuffle=True $$,  -- fit_params\n",
    "                                3,                              -- num_iterations\n",
    "                                FALSE,                          -- use GPUs\n",
    "                                'mnist_test_data_packed',    -- validation dataset\n",
    "                                2                               -- metrics compute frequency\n",
    "                              );"
   ]
  },
  {
   "cell_type": "markdown",
   "metadata": {
    "hidden": true
   },
   "source": [
    "## Evaluate"
   ]
  },
  {
   "cell_type": "code",
   "execution_count": null,
   "metadata": {
    "hidden": true
   },
   "outputs": [],
   "source": [
    "%%sql\n",
    "DROP TABLE IF EXISTS mnist_multout_eval, mnist_multout_eval_summary;\n",
    "SELECT madlib.madlib_keras_evaluate('mnist_model',               -- model\n",
    "                                    'mnist_test_data_packed',   -- test table\n",
    "                                    'mnist_multout_eval'             -- output table\n",
    "                                    );\n",
    "\n",
    "SELECT * FROM cifar10_validate;"
   ]
  },
  {
   "cell_type": "markdown",
   "metadata": {
    "hidden": true
   },
   "source": [
    "## Predict"
   ]
  },
  {
   "cell_type": "code",
   "execution_count": null,
   "metadata": {
    "hidden": true
   },
   "outputs": [],
   "source": [
    "%%sql\n",
    "DROP TABLE IF EXISTS mnist_multout_predict, mnist_multout_predict;\n",
    "SELECT madlib.madlib_keras_predict()"
   ]
  },
  {
   "cell_type": "markdown",
   "metadata": {
    "hidden": true
   },
   "source": [
    "## Plots"
   ]
  },
  {
   "cell_type": "code",
   "execution_count": null,
   "metadata": {
    "hidden": true
   },
   "outputs": [],
   "source": [
    "# get accuracy and iteration number\n",
    "iters_proxy = %sql SELECT metrics_iters FROM cifar_10_model_summary;\n",
    "train_accuracy_proxy = %sql SELECT training_metrics FROM cifar_10_model_summary;\n",
    "test_accuracy_proxy = %sql SELECT validation_metrics FROM cifar_10_model_summary;\n",
    "\n",
    "# get number of points\n",
    "num_points_proxy = %sql SELECT array_length(metrics_iters,1) FROM cifar_10_model_summary;\n",
    "num_points = num_points_proxy[0]\n",
    "\n",
    "# reshape to np arrays\n",
    "iters = np.array(iters_proxy).reshape(num_points)\n",
    "train_accuracy = np.array(train_accuracy_proxy).reshape(num_points)\n",
    "test_accuracy = np.array(test_accuracy_proxy).reshape(num_points)\n",
    "\n",
    "#plot\n",
    "plt.title('CIFAR-10 accuracy by iteration')\n",
    "plt.xlabel('Iteration number')\n",
    "plt.ylabel('Accuracy')\n",
    "plt.grid(True)\n",
    "plt.plot(iters, train_accuracy, 'g.-', label='Train')\n",
    "plt.plot(iters, test_accuracy, 'r.-', label='Test')\n",
    "plt.legend()\n",
    "\n",
    "Loss by iteration\n",
    "\n",
    "# get loss\n",
    "train_loss_proxy = %sql SELECT training_loss FROM cifar_10_model_summary;\n",
    "test_loss_proxy = %sql SELECT validation_loss FROM cifar_10_model_summary;\n",
    "\n",
    "# reshape to np arrays\n",
    "train_loss = np.array(train_loss_proxy).reshape(num_points)\n",
    "test_loss = np.array(test_loss_proxy).reshape(num_points)\n",
    "\n",
    "#plot\n",
    "plt.title('CIFAR-10 loss by iteration')\n",
    "plt.xlabel('Iteration number')\n",
    "plt.ylabel('Loss')\n",
    "plt.grid(True)\n",
    "plt.plot(iters, train_loss, 'g.-', label='Train')\n",
    "plt.plot(iters, test_loss, 'r.-', label='Test')\n",
    "plt.legend()\n",
    "\n",
    "Accuracy by time\n",
    "\n",
    "# get time\n",
    "time_proxy = %sql SELECT metrics_elapsed_time FROM cifar_10_model_summary;\n",
    "\n",
    "# reshape to np arrays\n",
    "time = np.array(time_proxy).reshape(num_points)/60.0\n",
    "\n",
    "#plot\n",
    "plt.title('CIFAR-10 accuracy by time')\n",
    "plt.xlabel('Time (min)')\n",
    "plt.ylabel('Accuracy')\n",
    "plt.grid(True)\n",
    "plt.plot(time, train_accuracy, 'g.-', label='Train')\n",
    "plt.plot(time, test_accuracy, 'r.-', label='Test')\n",
    "plt.legend()\n",
    "\n",
    "Time to achieve a given accuracy\n",
    "\n",
    "#plot\n",
    "plt.title('CIFAR-10 time by accuracy')\n",
    "plt.xlabel('Accuracy')\n",
    "plt.ylabel('Time (min)')\n",
    "plt.grid(True)\n",
    "plt.plot(train_accuracy, time, 'g.-', label='Train')\n",
    "plt.plot(test_accuracy, time, 'r.-', label='Test')\n",
    "plt.legend()"
   ]
  },
  {
   "cell_type": "markdown",
   "metadata": {},
   "source": [
    "# Multi Input"
   ]
  },
  {
   "cell_type": "code",
   "execution_count": 5,
   "metadata": {},
   "outputs": [],
   "source": [
    "from tensorflow.keras.layers import Conv2D, MaxPooling2D, concatenate"
   ]
  },
  {
   "cell_type": "code",
   "execution_count": 6,
   "metadata": {},
   "outputs": [
    {
     "name": "stdout",
     "output_type": "stream",
     "text": [
      "WARNING:tensorflow:From /Users/dominovaldano/Library/Python/2.7/lib/python/site-packages/tensorflow/python/ops/init_ops.py:1251: calling __init__ (from tensorflow.python.ops.init_ops) with dtype is deprecated and will be removed in a future version.\n",
      "Instructions for updating:\n",
      "Call initializer instance with the dtype argument instead of passing it to the constructor\n"
     ]
    }
   ],
   "source": [
    "# feature extraction from gray scale image\n",
    "inputs = Input(shape = (28,28,1))\n",
    " \n",
    "conv1 = Conv2D(16, (3,3), activation = 'relu', padding = \"SAME\")(inputs)\n",
    "pool1 = MaxPooling2D(pool_size = (2,2), strides = 2)(conv1)\n",
    "conv2 = Conv2D(32, (3,3), activation = 'relu', padding = \"SAME\")(pool1)\n",
    "pool2 = MaxPooling2D(pool_size = (2,2), strides = 2)(conv2)\n",
    "flat_1 = Flatten()(pool2)\n",
    " \n",
    "# feature extraction from RGB image\n",
    "inputs_2 = Input(shape = (28,28,3))\n",
    " \n",
    "conv1_2 = Conv2D(16, (3,3), activation = 'relu', padding = \"SAME\")(inputs_2)\n",
    "pool1_2 = MaxPooling2D(pool_size = (2,2), strides = 2)(conv1_2)\n",
    "conv2_2 = Conv2D(32, (3,3), activation = 'relu', padding = \"SAME\")(pool1_2)\n",
    "pool2_2 = MaxPooling2D(pool_size = (2,2), strides = 2)(conv2_2)\n",
    "flat_2 = Flatten()(pool2_2)\n",
    " \n",
    "# concatenate both feature layers and define output layer after some dense layers\n",
    "concat = concatenate([flat_1,flat_2])\n",
    "dense1 = Dense(512, activation = 'relu')(concat)\n",
    "dense2 = Dense(128, activation = 'relu')(dense1)\n",
    "dense3 = Dense(32, activation = 'relu')(dense2)\n",
    "output = Dense(10, activation = 'softmax')(dense3)\n",
    " \n",
    "# create model with two inputs\n",
    "model = Model([inputs,inputs_2], output)\n"
   ]
  },
  {
   "cell_type": "code",
   "execution_count": 7,
   "metadata": {},
   "outputs": [
    {
     "name": "stdout",
     "output_type": "stream",
     "text": [
      "Model: \"model\"\n",
      "__________________________________________________________________________________________________\n",
      "Layer (type)                    Output Shape         Param #     Connected to                     \n",
      "==================================================================================================\n",
      "input_1 (InputLayer)            [(None, 28, 28, 1)]  0                                            \n",
      "__________________________________________________________________________________________________\n",
      "input_2 (InputLayer)            [(None, 28, 28, 3)]  0                                            \n",
      "__________________________________________________________________________________________________\n",
      "conv2d (Conv2D)                 (None, 28, 28, 16)   160         input_1[0][0]                    \n",
      "__________________________________________________________________________________________________\n",
      "conv2d_2 (Conv2D)               (None, 28, 28, 16)   448         input_2[0][0]                    \n",
      "__________________________________________________________________________________________________\n",
      "max_pooling2d (MaxPooling2D)    (None, 14, 14, 16)   0           conv2d[0][0]                     \n",
      "__________________________________________________________________________________________________\n",
      "max_pooling2d_2 (MaxPooling2D)  (None, 14, 14, 16)   0           conv2d_2[0][0]                   \n",
      "__________________________________________________________________________________________________\n",
      "conv2d_1 (Conv2D)               (None, 14, 14, 32)   4640        max_pooling2d[0][0]              \n",
      "__________________________________________________________________________________________________\n",
      "conv2d_3 (Conv2D)               (None, 14, 14, 32)   4640        max_pooling2d_2[0][0]            \n",
      "__________________________________________________________________________________________________\n",
      "max_pooling2d_1 (MaxPooling2D)  (None, 7, 7, 32)     0           conv2d_1[0][0]                   \n",
      "__________________________________________________________________________________________________\n",
      "max_pooling2d_3 (MaxPooling2D)  (None, 7, 7, 32)     0           conv2d_3[0][0]                   \n",
      "__________________________________________________________________________________________________\n",
      "flatten (Flatten)               (None, 1568)         0           max_pooling2d_1[0][0]            \n",
      "__________________________________________________________________________________________________\n",
      "flatten_1 (Flatten)             (None, 1568)         0           max_pooling2d_3[0][0]            \n",
      "__________________________________________________________________________________________________\n",
      "concatenate (Concatenate)       (None, 3136)         0           flatten[0][0]                    \n",
      "                                                                 flatten_1[0][0]                  \n",
      "__________________________________________________________________________________________________\n",
      "dense (Dense)                   (None, 512)          1606144     concatenate[0][0]                \n",
      "__________________________________________________________________________________________________\n",
      "dense_1 (Dense)                 (None, 128)          65664       dense[0][0]                      \n",
      "__________________________________________________________________________________________________\n",
      "dense_2 (Dense)                 (None, 32)           4128        dense_1[0][0]                    \n",
      "__________________________________________________________________________________________________\n",
      "dense_3 (Dense)                 (None, 10)           330         dense_2[0][0]                    \n",
      "==================================================================================================\n",
      "Total params: 1,686,154\n",
      "Trainable params: 1,686,154\n",
      "Non-trainable params: 0\n",
      "__________________________________________________________________________________________________\n"
     ]
    }
   ],
   "source": [
    "model.summary()"
   ]
  },
  {
   "cell_type": "code",
   "execution_count": 8,
   "metadata": {},
   "outputs": [],
   "source": [
    "json_model = model.to_json()"
   ]
  },
  {
   "cell_type": "code",
   "execution_count": 9,
   "metadata": {},
   "outputs": [
    {
     "name": "stdout",
     "output_type": "stream",
     "text": [
      " * postgresql://localhost:6000/mnist\n",
      "Done.\n",
      "1 rows affected.\n",
      "1 rows affected.\n"
     ]
    },
    {
     "data": {
      "text/html": [
       "<table>\n",
       "    <tr>\n",
       "        <th>model_id</th>\n",
       "        <th>model_arch</th>\n",
       "        <th>model_weights</th>\n",
       "        <th>name</th>\n",
       "        <th>description</th>\n",
       "        <th>__internal_madlib_id__</th>\n",
       "    </tr>\n",
       "    <tr>\n",
       "        <td>1</td>\n",
       "        <td>{u'class_name': u'Model', u'keras_version': u'2.2.4-tf', u'config': {u'layers': [{u'class_name': u'InputLayer', u'config': {u'dtype': u'float32', u'batch_input_shape': [None, 28, 28, 1], u'name': u'input_1', u'sparse': False}, u'inbound_nodes': [], u'name': u'input_1'}, {u'class_name': u'InputLayer', u'config': {u'dtype': u'float32', u'batch_input_shape': [None, 28, 28, 3], u'name': u'input_2', u'sparse': False}, u'inbound_nodes': [], u'name': u'input_2'}, {u'class_name': u'Conv2D', u'config': {u'kernel_initializer': {u'class_name': u'GlorotUniform', u'config': {u'dtype': u'float32', u'seed': None}}, u'name': u'conv2d', u'kernel_constraint': None, u'bias_regularizer': None, u'bias_constraint': None, u'dtype': u'float32', u'activation': u'relu', u'trainable': True, u'data_format': u'channels_last', u'padding': u'same', u'strides': [1, 1], u'dilation_rate': [1, 1], u'kernel_regularizer': None, u'filters': 16, u'bias_initializer': {u'class_name': u'Zeros', u'config': {u'dtype': u'float32'}}, u'use_bias': True, u'activity_regularizer': None, u'kernel_size': [3, 3]}, u'inbound_nodes': [[[u'input_1', 0, 0, {}]]], u'name': u'conv2d'}, {u'class_name': u'Conv2D', u'config': {u'kernel_initializer': {u'class_name': u'GlorotUniform', u'config': {u'dtype': u'float32', u'seed': None}}, u'name': u'conv2d_2', u'kernel_constraint': None, u'bias_regularizer': None, u'bias_constraint': None, u'dtype': u'float32', u'activation': u'relu', u'trainable': True, u'data_format': u'channels_last', u'padding': u'same', u'strides': [1, 1], u'dilation_rate': [1, 1], u'kernel_regularizer': None, u'filters': 16, u'bias_initializer': {u'class_name': u'Zeros', u'config': {u'dtype': u'float32'}}, u'use_bias': True, u'activity_regularizer': None, u'kernel_size': [3, 3]}, u'inbound_nodes': [[[u'input_2', 0, 0, {}]]], u'name': u'conv2d_2'}, {u'class_name': u'MaxPooling2D', u'config': {u'name': u'max_pooling2d', u'dtype': u'float32', u'trainable': True, u'data_format': u'channels_last', u'pool_size': [2, 2], u'padding': u'valid', u'strides': [2, 2]}, u'inbound_nodes': [[[u'conv2d', 0, 0, {}]]], u'name': u'max_pooling2d'}, {u'class_name': u'MaxPooling2D', u'config': {u'name': u'max_pooling2d_2', u'dtype': u'float32', u'trainable': True, u'data_format': u'channels_last', u'pool_size': [2, 2], u'padding': u'valid', u'strides': [2, 2]}, u'inbound_nodes': [[[u'conv2d_2', 0, 0, {}]]], u'name': u'max_pooling2d_2'}, {u'class_name': u'Conv2D', u'config': {u'kernel_initializer': {u'class_name': u'GlorotUniform', u'config': {u'dtype': u'float32', u'seed': None}}, u'name': u'conv2d_1', u'kernel_constraint': None, u'bias_regularizer': None, u'bias_constraint': None, u'dtype': u'float32', u'activation': u'relu', u'trainable': True, u'data_format': u'channels_last', u'padding': u'same', u'strides': [1, 1], u'dilation_rate': [1, 1], u'kernel_regularizer': None, u'filters': 32, u'bias_initializer': {u'class_name': u'Zeros', u'config': {u'dtype': u'float32'}}, u'use_bias': True, u'activity_regularizer': None, u'kernel_size': [3, 3]}, u'inbound_nodes': [[[u'max_pooling2d', 0, 0, {}]]], u'name': u'conv2d_1'}, {u'class_name': u'Conv2D', u'config': {u'kernel_initializer': {u'class_name': u'GlorotUniform', u'config': {u'dtype': u'float32', u'seed': None}}, u'name': u'conv2d_3', u'kernel_constraint': None, u'bias_regularizer': None, u'bias_constraint': None, u'dtype': u'float32', u'activation': u'relu', u'trainable': True, u'data_format': u'channels_last', u'padding': u'same', u'strides': [1, 1], u'dilation_rate': [1, 1], u'kernel_regularizer': None, u'filters': 32, u'bias_initializer': {u'class_name': u'Zeros', u'config': {u'dtype': u'float32'}}, u'use_bias': True, u'activity_regularizer': None, u'kernel_size': [3, 3]}, u'inbound_nodes': [[[u'max_pooling2d_2', 0, 0, {}]]], u'name': u'conv2d_3'}, {u'class_name': u'MaxPooling2D', u'config': {u'name': u'max_pooling2d_1', u'dtype': u'float32', u'trainable': True, u'data_format': u'channels_last', u'pool_size': [2, 2], u'padding': u'valid', u'strides': [2, 2]}, u'inbound_nodes': [[[u'conv2d_1', 0, 0, {}]]], u'name': u'max_pooling2d_1'}, {u'class_name': u'MaxPooling2D', u'config': {u'name': u'max_pooling2d_3', u'dtype': u'float32', u'trainable': True, u'data_format': u'channels_last', u'pool_size': [2, 2], u'padding': u'valid', u'strides': [2, 2]}, u'inbound_nodes': [[[u'conv2d_3', 0, 0, {}]]], u'name': u'max_pooling2d_3'}, {u'class_name': u'Flatten', u'config': {u'dtype': u'float32', u'trainable': True, u'name': u'flatten', u'data_format': u'channels_last'}, u'inbound_nodes': [[[u'max_pooling2d_1', 0, 0, {}]]], u'name': u'flatten'}, {u'class_name': u'Flatten', u'config': {u'dtype': u'float32', u'trainable': True, u'name': u'flatten_1', u'data_format': u'channels_last'}, u'inbound_nodes': [[[u'max_pooling2d_3', 0, 0, {}]]], u'name': u'flatten_1'}, {u'class_name': u'Concatenate', u'config': {u'dtype': u'float32', u'trainable': True, u'name': u'concatenate', u'axis': -1}, u'inbound_nodes': [[[u'flatten', 0, 0, {}], [u'flatten_1', 0, 0, {}]]], u'name': u'concatenate'}, {u'class_name': u'Dense', u'config': {u'kernel_initializer': {u'class_name': u'GlorotUniform', u'config': {u'dtype': u'float32', u'seed': None}}, u'name': u'dense', u'kernel_constraint': None, u'bias_regularizer': None, u'bias_constraint': None, u'dtype': u'float32', u'activation': u'relu', u'trainable': True, u'kernel_regularizer': None, u'bias_initializer': {u'class_name': u'Zeros', u'config': {u'dtype': u'float32'}}, u'units': 512, u'use_bias': True, u'activity_regularizer': None}, u'inbound_nodes': [[[u'concatenate', 0, 0, {}]]], u'name': u'dense'}, {u'class_name': u'Dense', u'config': {u'kernel_initializer': {u'class_name': u'GlorotUniform', u'config': {u'dtype': u'float32', u'seed': None}}, u'name': u'dense_1', u'kernel_constraint': None, u'bias_regularizer': None, u'bias_constraint': None, u'dtype': u'float32', u'activation': u'relu', u'trainable': True, u'kernel_regularizer': None, u'bias_initializer': {u'class_name': u'Zeros', u'config': {u'dtype': u'float32'}}, u'units': 128, u'use_bias': True, u'activity_regularizer': None}, u'inbound_nodes': [[[u'dense', 0, 0, {}]]], u'name': u'dense_1'}, {u'class_name': u'Dense', u'config': {u'kernel_initializer': {u'class_name': u'GlorotUniform', u'config': {u'dtype': u'float32', u'seed': None}}, u'name': u'dense_2', u'kernel_constraint': None, u'bias_regularizer': None, u'bias_constraint': None, u'dtype': u'float32', u'activation': u'relu', u'trainable': True, u'kernel_regularizer': None, u'bias_initializer': {u'class_name': u'Zeros', u'config': {u'dtype': u'float32'}}, u'units': 32, u'use_bias': True, u'activity_regularizer': None}, u'inbound_nodes': [[[u'dense_1', 0, 0, {}]]], u'name': u'dense_2'}, {u'class_name': u'Dense', u'config': {u'kernel_initializer': {u'class_name': u'GlorotUniform', u'config': {u'dtype': u'float32', u'seed': None}}, u'name': u'dense_3', u'kernel_constraint': None, u'bias_regularizer': None, u'bias_constraint': None, u'dtype': u'float32', u'activation': u'softmax', u'trainable': True, u'kernel_regularizer': None, u'bias_initializer': {u'class_name': u'Zeros', u'config': {u'dtype': u'float32'}}, u'units': 10, u'use_bias': True, u'activity_regularizer': None}, u'inbound_nodes': [[[u'dense_2', 0, 0, {}]]], u'name': u'dense_3'}], u'output_layers': [[u'dense_3', 0, 0]], u'input_layers': [[u'input_1', 0, 0], [u'input_2', 0, 0]], u'name': u'model'}, u'backend': u'tensorflow'}</td>\n",
       "        <td>None</td>\n",
       "        <td>Multi Output MNIST</td>\n",
       "        <td>Input 1: greyscale, Input 2: color</td>\n",
       "        <td>__madlib_temp_31588424_1615918903_7880856__</td>\n",
       "    </tr>\n",
       "</table>"
      ],
      "text/plain": [
       "[(1, {u'class_name': u'Model', u'keras_version': u'2.2.4-tf', u'config': {u'layers': [{u'class_name': u'InputLayer', u'inbound_nodes': [], u'config': {u'dt ... (7129 characters truncated) ... '}], u'input_layers': [[u'input_1', 0, 0], [u'input_2', 0, 0]], u'name': u'model', u'output_layers': [[u'dense_3', 0, 0]]}, u'backend': u'tensorflow'}, None, u'Multi Output MNIST', u'Input 1: greyscale, Input 2: color', u'__madlib_temp_31588424_1615918903_7880856__')]"
      ]
     },
     "execution_count": 9,
     "metadata": {},
     "output_type": "execute_result"
    }
   ],
   "source": [
    "%%sql\n",
    "DROP TABLE IF EXISTS model_arch_library;\n",
    "SELECT madlib.load_keras_model('model_arch_library', :json_model ::json,\n",
    "                               NULL,                  -- Weights\n",
    "                               'Multi Output MNIST',              -- Name\n",
    "                               'Input 1: greyscale, Input 2: color' -- Descr\n",
    ");\n",
    "\n",
    "SELECT * FROM model_arch_library;"
   ]
  },
  {
   "cell_type": "markdown",
   "metadata": {
    "heading_collapsed": true
   },
   "source": [
    "## Create color mnist input from greyscale input"
   ]
  },
  {
   "cell_type": "code",
   "execution_count": null,
   "metadata": {
    "hidden": true
   },
   "outputs": [],
   "source": [
    "from tensorflow.keras.datasets import mnist\n",
    "import numpy as np\n",
    "import PIL"
   ]
  },
  {
   "cell_type": "code",
   "execution_count": null,
   "metadata": {
    "hidden": true
   },
   "outputs": [],
   "source": [
    "%%sql\n",
    "DROP TABLE IF EXISTS random_colors_train;\n",
    "CREATE TABLE random_colors_train AS\n",
    "    SELECT id,\n",
    "        floor(r/(r+b+g)*256)::INT AS r,\n",
    "        floor(g/(r+b+g)*256)::INT AS g,\n",
    "        floor(b/(r+b+g)*256)::INT AS b FROM\n",
    "            (SELECT s.id,random() as r, random() as b, random() as g FROM\n",
    "                (SELECT generate_series(1,60000) as id) s) x;"
   ]
  },
  {
   "cell_type": "code",
   "execution_count": null,
   "metadata": {
    "hidden": true
   },
   "outputs": [],
   "source": [
    "%%sql\n",
    "DROP TABLE IF EXISTS random_colors_test;\n",
    "CREATE TABLE random_colors_test AS\n",
    "    SELECT id,\n",
    "        floor(r/(r+b+g)*256)::INT AS r,\n",
    "        floor(g/(r+b+g)*256)::INT AS g,\n",
    "        floor(b/(r+b+g)*256)::INT AS b FROM\n",
    "            (SELECT s.id,random() as r, random() as b, random() as g FROM\n",
    "                (SELECT generate_series(1,10000) as id) s) x;"
   ]
  },
  {
   "cell_type": "code",
   "execution_count": 12,
   "metadata": {
    "hidden": true
   },
   "outputs": [
    {
     "name": "stdout",
     "output_type": "stream",
     "text": [
      " * postgresql://localhost:6000/mnist\n",
      "Done.\n"
     ]
    },
    {
     "data": {
      "text/plain": [
       "[]"
      ]
     },
     "execution_count": 12,
     "metadata": {},
     "output_type": "execute_result"
    }
   ],
   "source": [
    "%sql SET search_path=public,madlib"
   ]
  },
  {
   "cell_type": "code",
   "execution_count": null,
   "metadata": {
    "hidden": true
   },
   "outputs": [],
   "source": [
    "%%sql\n",
    "DROP TABLE IF EXISTS mnist_color_train;\n",
    "CREATE TABLE mnist_color_train AS\n",
    "    SELECT id,\n",
    "        ARRAY[\n",
    "            array_scalar_mult(x,(r/256.0)::REAL),\n",
    "            array_scalar_mult(x,(g/256.0)::REAL),\n",
    "            array_scalar_mult(x,(b/256.0)::REAL)\n",
    "        ] AS x,\n",
    "        y\n",
    "    FROM mnist_train_data JOIN random_colors_train USING (id);"
   ]
  },
  {
   "cell_type": "code",
   "execution_count": null,
   "metadata": {
    "hidden": true
   },
   "outputs": [],
   "source": [
    "%%sql\n",
    "DROP TABLE IF EXISTS mnist_color_test;\n",
    "CREATE TABLE mnist_color_test AS\n",
    "    SELECT id,\n",
    "        ARRAY[\n",
    "            array_scalar_mult(x,(r/256.0)::REAL),\n",
    "            array_scalar_mult(x,(g/256.0)::REAL),\n",
    "            array_scalar_mult(x,(b/256.0)::REAL)\n",
    "        ] AS x,\n",
    "        y\n",
    "    FROM mnist_test_data JOIN random_colors_test USING (id);"
   ]
  },
  {
   "cell_type": "code",
   "execution_count": null,
   "metadata": {
    "hidden": true
   },
   "outputs": [],
   "source": [
    "%%sql\n",
    "DROP TABLE IF EXISTS mnist_grey_color_train;\n",
    "CREATE TABLE mnist_grey_color_train AS\n",
    "    SELECT id, ARRAY[g.x] AS x_grey, c.x AS x_color, y\n",
    "FROM mnist_train_data g JOIN mnist_color_train c USING (id,y);"
   ]
  },
  {
   "cell_type": "code",
   "execution_count": null,
   "metadata": {
    "hidden": true
   },
   "outputs": [],
   "source": [
    "%%sql\n",
    "DROP TABLE IF EXISTS mnist_grey_color_test;\n",
    "CREATE TABLE mnist_grey_color_test AS\n",
    "    SELECT id, ARRAY[g.x] AS x_grey, c.x AS x_color, y\n",
    "FROM mnist_test_data g JOIN mnist_color_test c USING (id,y);"
   ]
  },
  {
   "cell_type": "markdown",
   "metadata": {
    "heading_collapsed": true
   },
   "source": [
    "## Convert data format from channels first to channels last"
   ]
  },
  {
   "cell_type": "code",
   "execution_count": null,
   "metadata": {
    "hidden": true
   },
   "outputs": [],
   "source": [
    "import pandas as pd\n",
    "import numpy as np\n",
    "import PIL"
   ]
  },
  {
   "cell_type": "code",
   "execution_count": null,
   "metadata": {
    "hidden": true
   },
   "outputs": [],
   "source": [
    "gcd_test = %sql SELECT * FROM mnist_grey_color_test ORDER BY id"
   ]
  },
  {
   "cell_type": "code",
   "execution_count": null,
   "metadata": {
    "hidden": true
   },
   "outputs": [],
   "source": [
    "gcd_train = %sql SELECT * FROM mnist_grey_color_train ORDER BY id"
   ]
  },
  {
   "cell_type": "code",
   "execution_count": null,
   "metadata": {
    "hidden": true
   },
   "outputs": [],
   "source": [
    "gcd_test = gcd_test.dict()\n",
    "gcd_train = gcd_train.dict()"
   ]
  },
  {
   "cell_type": "code",
   "execution_count": null,
   "metadata": {
    "hidden": true
   },
   "outputs": [],
   "source": [
    "x_grey = [ np.asarray(x) for x in gcd_test['x_grey']]\n",
    "x_color = [ np.asarray(x) for x in gcd_test['x_color'] ]"
   ]
  },
  {
   "cell_type": "code",
   "execution_count": null,
   "metadata": {
    "hidden": true
   },
   "outputs": [],
   "source": [
    "grey_color_test_dataset = { 'id' : gcd_test['id'], 'x_grey' : x_grey, 'x_color' : x_color, 'y' : gcd_test['y'] }"
   ]
  },
  {
   "cell_type": "code",
   "execution_count": null,
   "metadata": {
    "hidden": true
   },
   "outputs": [],
   "source": [
    "x_grey = [ np.asarray(x) for x in gcd_train['x_grey'] ]\n",
    "x_color = [ np.asarray(x) for x in gcd_train['x_color'] ]"
   ]
  },
  {
   "cell_type": "code",
   "execution_count": null,
   "metadata": {
    "hidden": true
   },
   "outputs": [],
   "source": [
    "grey_color_train_dataset = { 'id' : gcd_train['id'], 'x_grey' : x_grey, 'x_color' : x_color, 'y' : gcd_train['y'] }"
   ]
  },
  {
   "cell_type": "code",
   "execution_count": null,
   "metadata": {
    "hidden": true
   },
   "outputs": [],
   "source": [
    "df_test = pd.DataFrame(grey_color_test_dataset)\n",
    "df_test.set_index('id')"
   ]
  },
  {
   "cell_type": "code",
   "execution_count": null,
   "metadata": {
    "hidden": true
   },
   "outputs": [],
   "source": [
    "df_train = pd.DataFrame(grey_color_train_dataset)\n",
    "df_train.set_index('id')"
   ]
  },
  {
   "cell_type": "code",
   "execution_count": null,
   "metadata": {
    "hidden": true
   },
   "outputs": [],
   "source": [
    "df_train.loc[1]['x_color'].shape, df_train.loc[1]['x_grey'].shape"
   ]
  },
  {
   "cell_type": "code",
   "execution_count": null,
   "metadata": {
    "hidden": true
   },
   "outputs": [],
   "source": [
    "def channels_first_to_last(row):\n",
    "    row['x_grey'] = np.transpose(row['x_grey'], (1,2,0))\n",
    "    row['x_color'] = np.transpose(row['x_color'], (1,2,0))\n",
    "    return row"
   ]
  },
  {
   "cell_type": "code",
   "execution_count": null,
   "metadata": {
    "hidden": true
   },
   "outputs": [],
   "source": [
    "df_test = df_test.apply( channels_first_to_last, axis=1 )"
   ]
  },
  {
   "cell_type": "code",
   "execution_count": null,
   "metadata": {
    "hidden": true
   },
   "outputs": [],
   "source": [
    "df_train = df_train.apply( channels_first_to_last, axis=1 )"
   ]
  },
  {
   "cell_type": "code",
   "execution_count": null,
   "metadata": {
    "hidden": true
   },
   "outputs": [],
   "source": [
    "from sqlalchemy import create_engine, INTEGER, ARRAY, REAL, SMALLINT"
   ]
  },
  {
   "cell_type": "code",
   "execution_count": null,
   "metadata": {
    "hidden": true
   },
   "outputs": [],
   "source": [
    "engine = create_engine('postgres://localhost:6000/mnist')"
   ]
  },
  {
   "cell_type": "code",
   "execution_count": null,
   "metadata": {
    "hidden": true
   },
   "outputs": [],
   "source": [
    "res = engine.execute(\"SELECT version()\")"
   ]
  },
  {
   "cell_type": "code",
   "execution_count": null,
   "metadata": {
    "hidden": true
   },
   "outputs": [],
   "source": [
    "res.fetchall()"
   ]
  },
  {
   "cell_type": "code",
   "execution_count": null,
   "metadata": {
    "hidden": true
   },
   "outputs": [],
   "source": [
    "df_train.loc[1]['x_color'].shape, df_train.loc[1]['x_grey'].shape"
   ]
  },
  {
   "cell_type": "code",
   "execution_count": null,
   "metadata": {
    "hidden": true
   },
   "outputs": [],
   "source": [
    "df = df_test"
   ]
  },
  {
   "cell_type": "code",
   "execution_count": null,
   "metadata": {
    "hidden": true
   },
   "outputs": [],
   "source": [
    "df['x_color'] = df['x_color'].apply(lambda x : x.tolist())\n",
    "df['x_grey'] = df['x_grey'].apply(lambda x : x.tolist())"
   ]
  },
  {
   "cell_type": "code",
   "execution_count": null,
   "metadata": {
    "hidden": true
   },
   "outputs": [],
   "source": [
    "df_test = df"
   ]
  },
  {
   "cell_type": "code",
   "execution_count": null,
   "metadata": {
    "hidden": true
   },
   "outputs": [],
   "source": [
    "df = df_train"
   ]
  },
  {
   "cell_type": "code",
   "execution_count": null,
   "metadata": {
    "hidden": true
   },
   "outputs": [],
   "source": [
    "df['x_color'] = df['x_color'].apply(lambda x : x.tolist())\n",
    "df['x_grey'] = df['x_grey'].apply(lambda x : x.tolist())"
   ]
  },
  {
   "cell_type": "code",
   "execution_count": null,
   "metadata": {
    "hidden": true
   },
   "outputs": [],
   "source": [
    "df_train = df"
   ]
  },
  {
   "cell_type": "code",
   "execution_count": null,
   "metadata": {
    "hidden": true
   },
   "outputs": [],
   "source": [
    "dtype = { 'id' : INTEGER, 'x_grey' : ARRAY(REAL), 'x_color' : ARRAY(REAL), 'y' : SMALLINT }"
   ]
  },
  {
   "cell_type": "code",
   "execution_count": null,
   "metadata": {
    "hidden": true
   },
   "outputs": [],
   "source": [
    "df_test.to_sql('channels_last_test', con=engine, if_exists='replace', dtype=dtype, chunksize=500, method='multi', schema='public', index=False)"
   ]
  },
  {
   "cell_type": "code",
   "execution_count": null,
   "metadata": {
    "hidden": true
   },
   "outputs": [],
   "source": [
    "df_train.to_sql('channels_last_train', con=engine, if_exists='replace', dtype=dtype, chunksize=1000, method='multi', schema='public', index=False)"
   ]
  },
  {
   "cell_type": "code",
   "execution_count": null,
   "metadata": {
    "hidden": true
   },
   "outputs": [],
   "source": [
    "grey1 = np.array(df_train['x_grey'][12], dtype='uint8')"
   ]
  },
  {
   "cell_type": "code",
   "execution_count": null,
   "metadata": {
    "hidden": true
   },
   "outputs": [],
   "source": [
    "color1 = np.array(df_train['x_color'][12], dtype='uint8')"
   ]
  },
  {
   "cell_type": "code",
   "execution_count": null,
   "metadata": {
    "hidden": true
   },
   "outputs": [],
   "source": [
    "grey1.shape, color1.shape"
   ]
  },
  {
   "cell_type": "code",
   "execution_count": null,
   "metadata": {
    "hidden": true
   },
   "outputs": [],
   "source": [
    "grey1slim = grey1.reshape((28,28))"
   ]
  },
  {
   "cell_type": "code",
   "execution_count": null,
   "metadata": {
    "hidden": true
   },
   "outputs": [],
   "source": [
    "grey1slim.shape"
   ]
  },
  {
   "cell_type": "code",
   "execution_count": null,
   "metadata": {
    "hidden": true
   },
   "outputs": [],
   "source": [
    "img1g = PIL.Image.fromarray(grey1slim)"
   ]
  },
  {
   "cell_type": "code",
   "execution_count": null,
   "metadata": {
    "hidden": true
   },
   "outputs": [],
   "source": [
    "img1c = PIL.Image.fromarray(color1)"
   ]
  },
  {
   "cell_type": "code",
   "execution_count": null,
   "metadata": {
    "hidden": true
   },
   "outputs": [],
   "source": [
    "img1g.show() # Doesn't work for me"
   ]
  },
  {
   "cell_type": "code",
   "execution_count": null,
   "metadata": {
    "hidden": true
   },
   "outputs": [],
   "source": [
    "img1g.save('img1g.jpg')\n",
    "img1c.save('img1c.jpg')"
   ]
  },
  {
   "cell_type": "code",
   "execution_count": null,
   "metadata": {
    "hidden": true
   },
   "outputs": [],
   "source": [
    "!display img1g.jpg"
   ]
  },
  {
   "cell_type": "code",
   "execution_count": null,
   "metadata": {
    "hidden": true
   },
   "outputs": [],
   "source": [
    "!display img1c.jpg"
   ]
  },
  {
   "cell_type": "code",
   "execution_count": null,
   "metadata": {
    "hidden": true
   },
   "outputs": [],
   "source": [
    "%sql SELECT id, array_dims(x_grey), array_dims(x_color), y FROM channels_last_test ORDER BY id LIMIT 5"
   ]
  },
  {
   "cell_type": "code",
   "execution_count": null,
   "metadata": {
    "hidden": true
   },
   "outputs": [],
   "source": [
    "%%sql\n",
    "-- Careful not to drop unless channels_last_test exists, otherwise we lose the table and will have to re-create\n",
    "--drop table if exists mnist_grey_color_test;\n",
    "alter table channels_last_test rename to mnist_grey_color_test;"
   ]
  },
  {
   "cell_type": "code",
   "execution_count": null,
   "metadata": {
    "hidden": true
   },
   "outputs": [],
   "source": [
    "%sql SELECT id, array_dims(x_grey), array_dims(x_color), y FROM channels_last_train ORDER BY id LIMIT 5"
   ]
  },
  {
   "cell_type": "code",
   "execution_count": null,
   "metadata": {
    "hidden": true
   },
   "outputs": [],
   "source": [
    "%%sql\n",
    "-- Careful not to drop unless channels_last_train exists, otherwise we lose the table and will have to re-create\n",
    "--drop table if exists mnist_grey_color_train;\n",
    "alter table channels_last_train rename to mnist_grey_color_train;"
   ]
  },
  {
   "cell_type": "markdown",
   "metadata": {},
   "source": [
    "## Minbatch input tables"
   ]
  },
  {
   "cell_type": "code",
   "execution_count": null,
   "metadata": {},
   "outputs": [],
   "source": [
    "%%sql\n",
    "DROP TABLE IF EXISTS mnist_color_train_packed, mnist_color_train_packed_summary;\n",
    "SELECT madlib.training_preprocessor_dl('mnist_grey_color_train',        -- Source table\n",
    "                                       'mnist_grey_color_train_packed', -- Output table\n",
    "                                       'y',                          -- Dependent variable\n",
    "                                       'x_grey, x_color',            -- Independent variables\n",
    "                                        1000,                        -- Buffer size\n",
    "                                        255                          -- Normalizing constant\n",
    "                                        );\n",
    "\n",
    "SELECT * FROM mnist_train_data_packed_summary;"
   ]
  },
  {
   "cell_type": "code",
   "execution_count": null,
   "metadata": {},
   "outputs": [],
   "source": [
    "%%sql\n",
    "DROP TABLE IF EXISTS mnist_test_data_packed, mnist_test_data_packed_summary;\n",
    "SELECT madlib.training_preprocessor_dl('mnist_grey_color_test',        -- Source table\n",
    "                                       'mnist_grey_color_test_packed', -- Output table\n",
    "                                       'y',                          -- Dependent variable\n",
    "                                       'x_grey,x_color',             -- Independent variables\n",
    "                                        1000,                        -- Buffer size\n",
    "                                        255                          -- Normalizing constant\n",
    "                                        );\n",
    "\n",
    "SELECT * FROM mnist_train_data_packed_summary;"
   ]
  },
  {
   "cell_type": "markdown",
   "metadata": {},
   "source": [
    "## Run fit on multi-input dataset"
   ]
  },
  {
   "cell_type": "code",
   "execution_count": 11,
   "metadata": {},
   "outputs": [
    {
     "name": "stdout",
     "output_type": "stream",
     "text": [
      " * postgresql://localhost:6000/mnist\n",
      "Done.\n",
      "1 rows affected.\n"
     ]
    },
    {
     "data": {
      "text/html": [
       "<table>\n",
       "    <tr>\n",
       "        <th>madlib_keras_fit</th>\n",
       "    </tr>\n",
       "    <tr>\n",
       "        <td></td>\n",
       "    </tr>\n",
       "</table>"
      ],
      "text/plain": [
       "[('',)]"
      ]
     },
     "execution_count": 11,
     "metadata": {},
     "output_type": "execute_result"
    }
   ],
   "source": [
    "%%sql\n",
    "DROP TABLE IF EXISTS mnist_multout_model, mnist_multout_model_summary;\n",
    "SELECT madlib.madlib_keras_fit('mnist_grey_color_train_packed',    -- source table\n",
    "                               'mnist_multiin_model',           -- model output table\n",
    "                               'model_arch_library',            -- model arch table\n",
    "                                1,                              -- model arch id\n",
    "                                $$ loss='categorical_crossentropy', optimizer='adam', metrics=['accuracy']$$,  -- compile_params\n",
    "                                $$ batch_size=256, epochs=1, shuffle=True $$,  -- fit_params\n",
    "                                3,                              -- num_iterations\n",
    "                                FALSE,                          -- use GPUs\n",
    "                                'mnist_grey_color_test_packed',    -- validation dataset\n",
    "                                2                               -- metrics compute frequency\n",
    "                              );"
   ]
  },
  {
   "cell_type": "code",
   "execution_count": null,
   "metadata": {},
   "outputs": [],
   "source": []
  }
 ],
 "metadata": {
  "kernelspec": {
   "display_name": "Python 2",
   "language": "python",
   "name": "python2"
  },
  "language_info": {
   "codemirror_mode": {
    "name": "ipython",
    "version": 2
   },
   "file_extension": ".py",
   "mimetype": "text/x-python",
   "name": "python",
   "nbconvert_exporter": "python",
   "pygments_lexer": "ipython2",
   "version": "2.7.16"
  }
 },
 "nbformat": 4,
 "nbformat_minor": 2
}
